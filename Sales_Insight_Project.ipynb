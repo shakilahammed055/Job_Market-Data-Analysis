{
  "cells": [
    {
      "cell_type": "markdown",
      "metadata": {
        "id": "view-in-github",
        "colab_type": "text"
      },
      "source": [
        "<a href=\"https://colab.research.google.com/github/Roksana18cse04/DataAnalysisProject/blob/main/Sales_Insight_Project.ipynb\" target=\"_parent\"><img src=\"https://colab.research.google.com/assets/colab-badge.svg\" alt=\"Open In Colab\"/></a>"
      ]
    },
    {
      "cell_type": "markdown",
      "metadata": {
        "id": "GsTxnueE427x"
      },
      "source": [
        "# Project Of Sales Insight\n"
      ]
    },
    {
      "cell_type": "code",
      "execution_count": null,
      "metadata": {
        "id": "Kg9ykvHI427z",
        "outputId": "c4096ddc-ca43-45e7-9c13-36e98df7ffed"
      },
      "outputs": [
        {
          "name": "stdout",
          "output_type": "stream",
          "text": [
            "Defaulting to user installation because normal site-packages is not writeable\n",
            "Requirement already satisfied: seaborn in c:\\users\\hp\\appdata\\roaming\\python\\python312\\site-packages (0.13.2)\n",
            "Requirement already satisfied: numpy!=1.24.0,>=1.20 in c:\\users\\hp\\appdata\\roaming\\python\\python312\\site-packages (from seaborn) (1.26.4)\n",
            "Requirement already satisfied: pandas>=1.2 in c:\\users\\hp\\appdata\\roaming\\python\\python312\\site-packages (from seaborn) (2.2.2)\n",
            "Requirement already satisfied: matplotlib!=3.6.1,>=3.4 in c:\\users\\hp\\appdata\\roaming\\python\\python312\\site-packages (from seaborn) (3.8.3)\n",
            "Requirement already satisfied: contourpy>=1.0.1 in c:\\users\\hp\\appdata\\roaming\\python\\python312\\site-packages (from matplotlib!=3.6.1,>=3.4->seaborn) (1.2.0)\n",
            "Requirement already satisfied: cycler>=0.10 in c:\\users\\hp\\appdata\\roaming\\python\\python312\\site-packages (from matplotlib!=3.6.1,>=3.4->seaborn) (0.12.1)\n",
            "Requirement already satisfied: fonttools>=4.22.0 in c:\\users\\hp\\appdata\\roaming\\python\\python312\\site-packages (from matplotlib!=3.6.1,>=3.4->seaborn) (4.49.0)\n",
            "Requirement already satisfied: kiwisolver>=1.3.1 in c:\\users\\hp\\appdata\\roaming\\python\\python312\\site-packages (from matplotlib!=3.6.1,>=3.4->seaborn) (1.4.5)\n",
            "Requirement already satisfied: packaging>=20.0 in c:\\users\\hp\\appdata\\roaming\\python\\python312\\site-packages (from matplotlib!=3.6.1,>=3.4->seaborn) (23.2)\n",
            "Requirement already satisfied: pillow>=8 in c:\\users\\hp\\appdata\\roaming\\python\\python312\\site-packages (from matplotlib!=3.6.1,>=3.4->seaborn) (10.2.0)\n",
            "Requirement already satisfied: pyparsing>=2.3.1 in c:\\users\\hp\\appdata\\roaming\\python\\python312\\site-packages (from matplotlib!=3.6.1,>=3.4->seaborn) (3.1.1)\n",
            "Requirement already satisfied: python-dateutil>=2.7 in c:\\users\\hp\\appdata\\roaming\\python\\python312\\site-packages (from matplotlib!=3.6.1,>=3.4->seaborn) (2.8.2)\n",
            "Requirement already satisfied: pytz>=2020.1 in c:\\users\\hp\\appdata\\roaming\\python\\python312\\site-packages (from pandas>=1.2->seaborn) (2024.1)\n",
            "Requirement already satisfied: tzdata>=2022.7 in c:\\users\\hp\\appdata\\roaming\\python\\python312\\site-packages (from pandas>=1.2->seaborn) (2024.1)\n",
            "Requirement already satisfied: six>=1.5 in c:\\users\\hp\\appdata\\roaming\\python\\python312\\site-packages (from python-dateutil>=2.7->matplotlib!=3.6.1,>=3.4->seaborn) (1.16.0)\n",
            "Note: you may need to restart the kernel to use updated packages.\n"
          ]
        },
        {
          "name": "stderr",
          "output_type": "stream",
          "text": [
            "\n",
            "[notice] A new release of pip is available: 24.0 -> 24.2\n",
            "[notice] To update, run: python.exe -m pip install --upgrade pip\n"
          ]
        }
      ],
      "source": [
        "%pip install seaborn"
      ]
    },
    {
      "cell_type": "markdown",
      "metadata": {
        "id": "_28rccUD4270"
      },
      "source": [
        "load the data into python"
      ]
    },
    {
      "cell_type": "code",
      "execution_count": null,
      "metadata": {
        "id": "L1lQeopj4270"
      },
      "outputs": [],
      "source": [
        "import pandas as pd\n",
        "import numpy as np"
      ]
    },
    {
      "cell_type": "code",
      "execution_count": null,
      "metadata": {
        "id": "kAO18mdU4270",
        "outputId": "c2faa911-e59b-43f3-d5bd-4c96ba97b445"
      },
      "outputs": [
        {
          "data": {
            "text/html": [
              "<div>\n",
              "<style scoped>\n",
              "    .dataframe tbody tr th:only-of-type {\n",
              "        vertical-align: middle;\n",
              "    }\n",
              "\n",
              "    .dataframe tbody tr th {\n",
              "        vertical-align: top;\n",
              "    }\n",
              "\n",
              "    .dataframe thead th {\n",
              "        text-align: right;\n",
              "    }\n",
              "</style>\n",
              "<table border=\"1\" class=\"dataframe\">\n",
              "  <thead>\n",
              "    <tr style=\"text-align: right;\">\n",
              "      <th></th>\n",
              "      <th>ORDERNUMBER</th>\n",
              "      <th>QUANTITYORDERED</th>\n",
              "      <th>PRICEEACH</th>\n",
              "      <th>ORDERLINENUMBER</th>\n",
              "      <th>SALES</th>\n",
              "      <th>ORDERDATE</th>\n",
              "      <th>STATUS</th>\n",
              "      <th>QTR_ID</th>\n",
              "      <th>MONTH_ID</th>\n",
              "      <th>YEAR_ID</th>\n",
              "      <th>...</th>\n",
              "      <th>ADDRESSLINE1</th>\n",
              "      <th>ADDRESSLINE2</th>\n",
              "      <th>CITY</th>\n",
              "      <th>STATE</th>\n",
              "      <th>POSTALCODE</th>\n",
              "      <th>COUNTRY</th>\n",
              "      <th>TERRITORY</th>\n",
              "      <th>CONTACTLASTNAME</th>\n",
              "      <th>CONTACTFIRSTNAME</th>\n",
              "      <th>DEALSIZE</th>\n",
              "    </tr>\n",
              "  </thead>\n",
              "  <tbody>\n",
              "    <tr>\n",
              "      <th>0</th>\n",
              "      <td>10107</td>\n",
              "      <td>30</td>\n",
              "      <td>95.70</td>\n",
              "      <td>2</td>\n",
              "      <td>2871.00</td>\n",
              "      <td>2/24/2003 0:00</td>\n",
              "      <td>Shipped</td>\n",
              "      <td>1</td>\n",
              "      <td>2</td>\n",
              "      <td>2003</td>\n",
              "      <td>...</td>\n",
              "      <td>897 Long Airport Avenue</td>\n",
              "      <td>NaN</td>\n",
              "      <td>NYC</td>\n",
              "      <td>NY</td>\n",
              "      <td>10022</td>\n",
              "      <td>USA</td>\n",
              "      <td>NaN</td>\n",
              "      <td>Yu</td>\n",
              "      <td>Kwai</td>\n",
              "      <td>Small</td>\n",
              "    </tr>\n",
              "    <tr>\n",
              "      <th>1</th>\n",
              "      <td>10121</td>\n",
              "      <td>34</td>\n",
              "      <td>81.35</td>\n",
              "      <td>5</td>\n",
              "      <td>2765.90</td>\n",
              "      <td>5/7/2003 0:00</td>\n",
              "      <td>Shipped</td>\n",
              "      <td>2</td>\n",
              "      <td>5</td>\n",
              "      <td>2003</td>\n",
              "      <td>...</td>\n",
              "      <td>59 rue de l'Abbaye</td>\n",
              "      <td>NaN</td>\n",
              "      <td>Reims</td>\n",
              "      <td>NaN</td>\n",
              "      <td>51100</td>\n",
              "      <td>France</td>\n",
              "      <td>EMEA</td>\n",
              "      <td>Henriot</td>\n",
              "      <td>Paul</td>\n",
              "      <td>Small</td>\n",
              "    </tr>\n",
              "    <tr>\n",
              "      <th>2</th>\n",
              "      <td>10134</td>\n",
              "      <td>41</td>\n",
              "      <td>94.74</td>\n",
              "      <td>2</td>\n",
              "      <td>3884.34</td>\n",
              "      <td>7/1/2003 0:00</td>\n",
              "      <td>Shipped</td>\n",
              "      <td>3</td>\n",
              "      <td>7</td>\n",
              "      <td>2003</td>\n",
              "      <td>...</td>\n",
              "      <td>27 rue du Colonel Pierre Avia</td>\n",
              "      <td>NaN</td>\n",
              "      <td>Paris</td>\n",
              "      <td>NaN</td>\n",
              "      <td>75508</td>\n",
              "      <td>France</td>\n",
              "      <td>EMEA</td>\n",
              "      <td>Da Cunha</td>\n",
              "      <td>Daniel</td>\n",
              "      <td>Medium</td>\n",
              "    </tr>\n",
              "    <tr>\n",
              "      <th>3</th>\n",
              "      <td>10145</td>\n",
              "      <td>45</td>\n",
              "      <td>83.26</td>\n",
              "      <td>6</td>\n",
              "      <td>3746.70</td>\n",
              "      <td>8/25/2003 0:00</td>\n",
              "      <td>Shipped</td>\n",
              "      <td>3</td>\n",
              "      <td>8</td>\n",
              "      <td>2003</td>\n",
              "      <td>...</td>\n",
              "      <td>78934 Hillside Dr.</td>\n",
              "      <td>NaN</td>\n",
              "      <td>Pasadena</td>\n",
              "      <td>CA</td>\n",
              "      <td>90003</td>\n",
              "      <td>USA</td>\n",
              "      <td>NaN</td>\n",
              "      <td>Young</td>\n",
              "      <td>Julie</td>\n",
              "      <td>Medium</td>\n",
              "    </tr>\n",
              "    <tr>\n",
              "      <th>4</th>\n",
              "      <td>10159</td>\n",
              "      <td>49</td>\n",
              "      <td>100.00</td>\n",
              "      <td>14</td>\n",
              "      <td>5205.27</td>\n",
              "      <td>10/10/2003 0:00</td>\n",
              "      <td>Shipped</td>\n",
              "      <td>4</td>\n",
              "      <td>10</td>\n",
              "      <td>2003</td>\n",
              "      <td>...</td>\n",
              "      <td>7734 Strong St.</td>\n",
              "      <td>NaN</td>\n",
              "      <td>San Francisco</td>\n",
              "      <td>CA</td>\n",
              "      <td>NaN</td>\n",
              "      <td>USA</td>\n",
              "      <td>NaN</td>\n",
              "      <td>Brown</td>\n",
              "      <td>Julie</td>\n",
              "      <td>Medium</td>\n",
              "    </tr>\n",
              "  </tbody>\n",
              "</table>\n",
              "<p>5 rows × 25 columns</p>\n",
              "</div>"
            ],
            "text/plain": [
              "   ORDERNUMBER  QUANTITYORDERED  PRICEEACH  ORDERLINENUMBER    SALES  \\\n",
              "0        10107               30      95.70                2  2871.00   \n",
              "1        10121               34      81.35                5  2765.90   \n",
              "2        10134               41      94.74                2  3884.34   \n",
              "3        10145               45      83.26                6  3746.70   \n",
              "4        10159               49     100.00               14  5205.27   \n",
              "\n",
              "         ORDERDATE   STATUS  QTR_ID  MONTH_ID  YEAR_ID  ...  \\\n",
              "0   2/24/2003 0:00  Shipped       1         2     2003  ...   \n",
              "1    5/7/2003 0:00  Shipped       2         5     2003  ...   \n",
              "2    7/1/2003 0:00  Shipped       3         7     2003  ...   \n",
              "3   8/25/2003 0:00  Shipped       3         8     2003  ...   \n",
              "4  10/10/2003 0:00  Shipped       4        10     2003  ...   \n",
              "\n",
              "                    ADDRESSLINE1  ADDRESSLINE2           CITY STATE  \\\n",
              "0        897 Long Airport Avenue           NaN            NYC    NY   \n",
              "1             59 rue de l'Abbaye           NaN          Reims   NaN   \n",
              "2  27 rue du Colonel Pierre Avia           NaN          Paris   NaN   \n",
              "3             78934 Hillside Dr.           NaN       Pasadena    CA   \n",
              "4                7734 Strong St.           NaN  San Francisco    CA   \n",
              "\n",
              "  POSTALCODE COUNTRY TERRITORY CONTACTLASTNAME CONTACTFIRSTNAME DEALSIZE  \n",
              "0      10022     USA       NaN              Yu             Kwai    Small  \n",
              "1      51100  France      EMEA         Henriot             Paul    Small  \n",
              "2      75508  France      EMEA        Da Cunha           Daniel   Medium  \n",
              "3      90003     USA       NaN           Young            Julie   Medium  \n",
              "4        NaN     USA       NaN           Brown            Julie   Medium  \n",
              "\n",
              "[5 rows x 25 columns]"
            ]
          },
          "execution_count": 3,
          "metadata": {},
          "output_type": "execute_result"
        }
      ],
      "source": [
        "#load the sales data\n",
        "sales_data=pd.read_csv(\"sales_data_sample.csv\",encoding='latin-1')\n",
        "\n",
        "# display the Few row\n",
        "sales_data.head()"
      ]
    },
    {
      "cell_type": "markdown",
      "metadata": {
        "id": "hdiXApmj4271"
      },
      "source": [
        "***Basic Information***"
      ]
    },
    {
      "cell_type": "code",
      "execution_count": null,
      "metadata": {
        "id": "BnVuahwq4271",
        "outputId": "4e7bb23a-0471-4a7e-f047-a770cb3e6923"
      },
      "outputs": [
        {
          "name": "stdout",
          "output_type": "stream",
          "text": [
            "<class 'pandas.core.frame.DataFrame'>\n",
            "RangeIndex: 2823 entries, 0 to 2822\n",
            "Data columns (total 25 columns):\n",
            " #   Column            Non-Null Count  Dtype  \n",
            "---  ------            --------------  -----  \n",
            " 0   ORDERNUMBER       2823 non-null   int64  \n",
            " 1   QUANTITYORDERED   2823 non-null   int64  \n",
            " 2   PRICEEACH         2823 non-null   float64\n",
            " 3   ORDERLINENUMBER   2823 non-null   int64  \n",
            " 4   SALES             2823 non-null   float64\n",
            " 5   ORDERDATE         2823 non-null   object \n",
            " 6   STATUS            2823 non-null   object \n",
            " 7   QTR_ID            2823 non-null   int64  \n",
            " 8   MONTH_ID          2823 non-null   int64  \n",
            " 9   YEAR_ID           2823 non-null   int64  \n",
            " 10  PRODUCTLINE       2823 non-null   object \n",
            " 11  MSRP              2823 non-null   int64  \n",
            " 12  PRODUCTCODE       2823 non-null   object \n",
            " 13  CUSTOMERNAME      2823 non-null   object \n",
            " 14  PHONE             2823 non-null   object \n",
            " 15  ADDRESSLINE1      2823 non-null   object \n",
            " 16  ADDRESSLINE2      302 non-null    object \n",
            " 17  CITY              2823 non-null   object \n",
            " 18  STATE             1337 non-null   object \n",
            " 19  POSTALCODE        2747 non-null   object \n",
            " 20  COUNTRY           2823 non-null   object \n",
            " 21  TERRITORY         1749 non-null   object \n",
            " 22  CONTACTLASTNAME   2823 non-null   object \n",
            " 23  CONTACTFIRSTNAME  2823 non-null   object \n",
            " 24  DEALSIZE          2823 non-null   object \n",
            "dtypes: float64(2), int64(7), object(16)\n",
            "memory usage: 551.5+ KB\n"
          ]
        }
      ],
      "source": [
        "# Data Types No, Null Count\n",
        "sales_data.info()"
      ]
    },
    {
      "cell_type": "code",
      "execution_count": null,
      "metadata": {
        "id": "JPEk_ur34271",
        "outputId": "ed7a1969-4bc7-4d97-9bc8-fb2ade03119d"
      },
      "outputs": [
        {
          "data": {
            "text/html": [
              "<div>\n",
              "<style scoped>\n",
              "    .dataframe tbody tr th:only-of-type {\n",
              "        vertical-align: middle;\n",
              "    }\n",
              "\n",
              "    .dataframe tbody tr th {\n",
              "        vertical-align: top;\n",
              "    }\n",
              "\n",
              "    .dataframe thead th {\n",
              "        text-align: right;\n",
              "    }\n",
              "</style>\n",
              "<table border=\"1\" class=\"dataframe\">\n",
              "  <thead>\n",
              "    <tr style=\"text-align: right;\">\n",
              "      <th></th>\n",
              "      <th>ORDERNUMBER</th>\n",
              "      <th>QUANTITYORDERED</th>\n",
              "      <th>PRICEEACH</th>\n",
              "      <th>ORDERLINENUMBER</th>\n",
              "      <th>SALES</th>\n",
              "      <th>QTR_ID</th>\n",
              "      <th>MONTH_ID</th>\n",
              "      <th>YEAR_ID</th>\n",
              "      <th>MSRP</th>\n",
              "    </tr>\n",
              "  </thead>\n",
              "  <tbody>\n",
              "    <tr>\n",
              "      <th>count</th>\n",
              "      <td>2823.000000</td>\n",
              "      <td>2823.000000</td>\n",
              "      <td>2823.000000</td>\n",
              "      <td>2823.000000</td>\n",
              "      <td>2823.000000</td>\n",
              "      <td>2823.000000</td>\n",
              "      <td>2823.000000</td>\n",
              "      <td>2823.00000</td>\n",
              "      <td>2823.000000</td>\n",
              "    </tr>\n",
              "    <tr>\n",
              "      <th>mean</th>\n",
              "      <td>10258.725115</td>\n",
              "      <td>35.092809</td>\n",
              "      <td>83.658544</td>\n",
              "      <td>6.466171</td>\n",
              "      <td>3553.889072</td>\n",
              "      <td>2.717676</td>\n",
              "      <td>7.092455</td>\n",
              "      <td>2003.81509</td>\n",
              "      <td>100.715551</td>\n",
              "    </tr>\n",
              "    <tr>\n",
              "      <th>std</th>\n",
              "      <td>92.085478</td>\n",
              "      <td>9.741443</td>\n",
              "      <td>20.174277</td>\n",
              "      <td>4.225841</td>\n",
              "      <td>1841.865106</td>\n",
              "      <td>1.203878</td>\n",
              "      <td>3.656633</td>\n",
              "      <td>0.69967</td>\n",
              "      <td>40.187912</td>\n",
              "    </tr>\n",
              "    <tr>\n",
              "      <th>min</th>\n",
              "      <td>10100.000000</td>\n",
              "      <td>6.000000</td>\n",
              "      <td>26.880000</td>\n",
              "      <td>1.000000</td>\n",
              "      <td>482.130000</td>\n",
              "      <td>1.000000</td>\n",
              "      <td>1.000000</td>\n",
              "      <td>2003.00000</td>\n",
              "      <td>33.000000</td>\n",
              "    </tr>\n",
              "    <tr>\n",
              "      <th>25%</th>\n",
              "      <td>10180.000000</td>\n",
              "      <td>27.000000</td>\n",
              "      <td>68.860000</td>\n",
              "      <td>3.000000</td>\n",
              "      <td>2203.430000</td>\n",
              "      <td>2.000000</td>\n",
              "      <td>4.000000</td>\n",
              "      <td>2003.00000</td>\n",
              "      <td>68.000000</td>\n",
              "    </tr>\n",
              "    <tr>\n",
              "      <th>50%</th>\n",
              "      <td>10262.000000</td>\n",
              "      <td>35.000000</td>\n",
              "      <td>95.700000</td>\n",
              "      <td>6.000000</td>\n",
              "      <td>3184.800000</td>\n",
              "      <td>3.000000</td>\n",
              "      <td>8.000000</td>\n",
              "      <td>2004.00000</td>\n",
              "      <td>99.000000</td>\n",
              "    </tr>\n",
              "    <tr>\n",
              "      <th>75%</th>\n",
              "      <td>10333.500000</td>\n",
              "      <td>43.000000</td>\n",
              "      <td>100.000000</td>\n",
              "      <td>9.000000</td>\n",
              "      <td>4508.000000</td>\n",
              "      <td>4.000000</td>\n",
              "      <td>11.000000</td>\n",
              "      <td>2004.00000</td>\n",
              "      <td>124.000000</td>\n",
              "    </tr>\n",
              "    <tr>\n",
              "      <th>max</th>\n",
              "      <td>10425.000000</td>\n",
              "      <td>97.000000</td>\n",
              "      <td>100.000000</td>\n",
              "      <td>18.000000</td>\n",
              "      <td>14082.800000</td>\n",
              "      <td>4.000000</td>\n",
              "      <td>12.000000</td>\n",
              "      <td>2005.00000</td>\n",
              "      <td>214.000000</td>\n",
              "    </tr>\n",
              "  </tbody>\n",
              "</table>\n",
              "</div>"
            ],
            "text/plain": [
              "        ORDERNUMBER  QUANTITYORDERED    PRICEEACH  ORDERLINENUMBER  \\\n",
              "count   2823.000000      2823.000000  2823.000000      2823.000000   \n",
              "mean   10258.725115        35.092809    83.658544         6.466171   \n",
              "std       92.085478         9.741443    20.174277         4.225841   \n",
              "min    10100.000000         6.000000    26.880000         1.000000   \n",
              "25%    10180.000000        27.000000    68.860000         3.000000   \n",
              "50%    10262.000000        35.000000    95.700000         6.000000   \n",
              "75%    10333.500000        43.000000   100.000000         9.000000   \n",
              "max    10425.000000        97.000000   100.000000        18.000000   \n",
              "\n",
              "              SALES       QTR_ID     MONTH_ID     YEAR_ID         MSRP  \n",
              "count   2823.000000  2823.000000  2823.000000  2823.00000  2823.000000  \n",
              "mean    3553.889072     2.717676     7.092455  2003.81509   100.715551  \n",
              "std     1841.865106     1.203878     3.656633     0.69967    40.187912  \n",
              "min      482.130000     1.000000     1.000000  2003.00000    33.000000  \n",
              "25%     2203.430000     2.000000     4.000000  2003.00000    68.000000  \n",
              "50%     3184.800000     3.000000     8.000000  2004.00000    99.000000  \n",
              "75%     4508.000000     4.000000    11.000000  2004.00000   124.000000  \n",
              "max    14082.800000     4.000000    12.000000  2005.00000   214.000000  "
            ]
          },
          "execution_count": 5,
          "metadata": {},
          "output_type": "execute_result"
        }
      ],
      "source": [
        "# summary of statistics\n",
        "sales_data.describe()"
      ]
    },
    {
      "cell_type": "code",
      "execution_count": null,
      "metadata": {
        "id": "f5l5sAZh4271",
        "outputId": "7853a921-40fd-4eaf-d032-06a2ffd85bba"
      },
      "outputs": [
        {
          "data": {
            "text/plain": [
              "ORDERNUMBER            0\n",
              "QUANTITYORDERED        0\n",
              "PRICEEACH              0\n",
              "ORDERLINENUMBER        0\n",
              "SALES                  0\n",
              "ORDERDATE              0\n",
              "STATUS                 0\n",
              "QTR_ID                 0\n",
              "MONTH_ID               0\n",
              "YEAR_ID                0\n",
              "PRODUCTLINE            0\n",
              "MSRP                   0\n",
              "PRODUCTCODE            0\n",
              "CUSTOMERNAME           0\n",
              "PHONE                  0\n",
              "ADDRESSLINE1           0\n",
              "ADDRESSLINE2        2521\n",
              "CITY                   0\n",
              "STATE               1486\n",
              "POSTALCODE            76\n",
              "COUNTRY                0\n",
              "TERRITORY           1074\n",
              "CONTACTLASTNAME        0\n",
              "CONTACTFIRSTNAME       0\n",
              "DEALSIZE               0\n",
              "dtype: int64"
            ]
          },
          "execution_count": 6,
          "metadata": {},
          "output_type": "execute_result"
        }
      ],
      "source": [
        "# Check For nun Values\n",
        "sales_data.isnull().sum()"
      ]
    },
    {
      "cell_type": "markdown",
      "metadata": {
        "id": "5o-qqTso4271"
      },
      "source": [
        "Data Cleaning"
      ]
    },
    {
      "cell_type": "code",
      "execution_count": null,
      "metadata": {
        "id": "4vAX5L0i4272"
      },
      "outputs": [],
      "source": [
        "# missing handle value\n",
        "sales_data.fillna(0, inplace=True)\n"
      ]
    },
    {
      "cell_type": "code",
      "execution_count": null,
      "metadata": {
        "id": "nhyQBPt54272",
        "outputId": "178a55a5-4193-48c2-cea1-274cf1e92ba1"
      },
      "outputs": [
        {
          "name": "stderr",
          "output_type": "stream",
          "text": [
            "C:\\Users\\hp\\AppData\\Local\\Temp\\ipykernel_11732\\4220435748.py:1: FutureWarning: A value is trying to be set on a copy of a DataFrame or Series through chained assignment using an inplace method.\n",
            "The behavior will change in pandas 3.0. This inplace method will never work because the intermediate object on which we are setting values always behaves as a copy.\n",
            "\n",
            "For example, when doing 'df[col].method(value, inplace=True)', try using 'df.method({col: value}, inplace=True)' or df[col] = df[col].method(value) instead, to perform the operation inplace on the original object.\n",
            "\n",
            "\n",
            "  sales_data['STATE'].fillna('Unknown', inplace=True)\n"
          ]
        }
      ],
      "source": [
        "sales_data['STATE'].fillna('Unknown', inplace=True)\n"
      ]
    },
    {
      "cell_type": "code",
      "execution_count": null,
      "metadata": {
        "id": "cZQh5m7r4273",
        "outputId": "5ce8f299-57d3-42f0-e48f-2c3b43f9e583"
      },
      "outputs": [
        {
          "data": {
            "text/plain": [
              "Index(['ORDERNUMBER', 'QUANTITYORDERED', 'PRICEEACH', 'ORDERLINENUMBER',\n",
              "       'SALES', 'ORDERDATE', 'STATUS', 'QTR_ID', 'MONTH_ID', 'YEAR_ID',\n",
              "       'PRODUCTLINE', 'MSRP', 'PRODUCTCODE', 'CUSTOMERNAME', 'PHONE',\n",
              "       'ADDRESSLINE1', 'ADDRESSLINE2', 'CITY', 'STATE', 'POSTALCODE',\n",
              "       'COUNTRY', 'TERRITORY', 'CONTACTLASTNAME', 'CONTACTFIRSTNAME',\n",
              "       'DEALSIZE'],\n",
              "      dtype='object')"
            ]
          },
          "execution_count": 9,
          "metadata": {},
          "output_type": "execute_result"
        }
      ],
      "source": [
        "sales_data.columns"
      ]
    },
    {
      "cell_type": "code",
      "execution_count": null,
      "metadata": {
        "id": "IbMGK0DI4273"
      },
      "outputs": [],
      "source": [
        "# convert data type\n",
        "sales_data['ORDERDATE'] = pd.to_datetime(sales_data['ORDERDATE'])\n"
      ]
    },
    {
      "cell_type": "code",
      "execution_count": null,
      "metadata": {
        "id": "Rj7rx4fb4273"
      },
      "outputs": [],
      "source": [
        "#Remove Unnecessary Columns\n",
        "sales_data.drop(['PHONE', 'ADDRESSLINE1', 'POSTALCODE', 'COUNTRY', 'CONTACTLASTNAME', 'CONTACTFIRSTNAME'], axis=1, inplace=True)"
      ]
    },
    {
      "cell_type": "code",
      "execution_count": null,
      "metadata": {
        "id": "V38C6uvD4273",
        "outputId": "fd1dc119-c564-4b72-ea65-6d2edb56550b"
      },
      "outputs": [
        {
          "data": {
            "text/html": [
              "<div>\n",
              "<style scoped>\n",
              "    .dataframe tbody tr th:only-of-type {\n",
              "        vertical-align: middle;\n",
              "    }\n",
              "\n",
              "    .dataframe tbody tr th {\n",
              "        vertical-align: top;\n",
              "    }\n",
              "\n",
              "    .dataframe thead th {\n",
              "        text-align: right;\n",
              "    }\n",
              "</style>\n",
              "<table border=\"1\" class=\"dataframe\">\n",
              "  <thead>\n",
              "    <tr style=\"text-align: right;\">\n",
              "      <th></th>\n",
              "      <th>ORDERNUMBER</th>\n",
              "      <th>QUANTITYORDERED</th>\n",
              "      <th>PRICEEACH</th>\n",
              "      <th>ORDERLINENUMBER</th>\n",
              "      <th>SALES</th>\n",
              "      <th>ORDERDATE</th>\n",
              "      <th>STATUS</th>\n",
              "      <th>QTR_ID</th>\n",
              "      <th>MONTH_ID</th>\n",
              "      <th>YEAR_ID</th>\n",
              "      <th>PRODUCTLINE</th>\n",
              "      <th>MSRP</th>\n",
              "      <th>PRODUCTCODE</th>\n",
              "      <th>CUSTOMERNAME</th>\n",
              "      <th>ADDRESSLINE2</th>\n",
              "      <th>CITY</th>\n",
              "      <th>STATE</th>\n",
              "      <th>TERRITORY</th>\n",
              "      <th>DEALSIZE</th>\n",
              "    </tr>\n",
              "  </thead>\n",
              "  <tbody>\n",
              "    <tr>\n",
              "      <th>1723</th>\n",
              "      <td>10184</td>\n",
              "      <td>42</td>\n",
              "      <td>31.82</td>\n",
              "      <td>7</td>\n",
              "      <td>1336.44</td>\n",
              "      <td>2003-11-14</td>\n",
              "      <td>Shipped</td>\n",
              "      <td>4</td>\n",
              "      <td>11</td>\n",
              "      <td>2003</td>\n",
              "      <td>Classic Cars</td>\n",
              "      <td>35</td>\n",
              "      <td>S24_2840</td>\n",
              "      <td>Iberia Gift Imports, Corp.</td>\n",
              "      <td>0</td>\n",
              "      <td>Sevilla</td>\n",
              "      <td>0</td>\n",
              "      <td>EMEA</td>\n",
              "      <td>Small</td>\n",
              "    </tr>\n",
              "    <tr>\n",
              "      <th>486</th>\n",
              "      <td>10227</td>\n",
              "      <td>25</td>\n",
              "      <td>100.00</td>\n",
              "      <td>3</td>\n",
              "      <td>2953.75</td>\n",
              "      <td>2004-03-02</td>\n",
              "      <td>Shipped</td>\n",
              "      <td>1</td>\n",
              "      <td>3</td>\n",
              "      <td>2004</td>\n",
              "      <td>Vintage Cars</td>\n",
              "      <td>102</td>\n",
              "      <td>S18_1342</td>\n",
              "      <td>Saveley &amp; Henriot, Co.</td>\n",
              "      <td>0</td>\n",
              "      <td>Lyon</td>\n",
              "      <td>0</td>\n",
              "      <td>EMEA</td>\n",
              "      <td>Small</td>\n",
              "    </tr>\n",
              "    <tr>\n",
              "      <th>2678</th>\n",
              "      <td>10284</td>\n",
              "      <td>25</td>\n",
              "      <td>69.60</td>\n",
              "      <td>7</td>\n",
              "      <td>1740.00</td>\n",
              "      <td>2004-08-21</td>\n",
              "      <td>Shipped</td>\n",
              "      <td>3</td>\n",
              "      <td>8</td>\n",
              "      <td>2004</td>\n",
              "      <td>Planes</td>\n",
              "      <td>80</td>\n",
              "      <td>S700_3167</td>\n",
              "      <td>Norway Gifts By Mail, Co.</td>\n",
              "      <td>0</td>\n",
              "      <td>Oslo</td>\n",
              "      <td>0</td>\n",
              "      <td>EMEA</td>\n",
              "      <td>Small</td>\n",
              "    </tr>\n",
              "  </tbody>\n",
              "</table>\n",
              "</div>"
            ],
            "text/plain": [
              "      ORDERNUMBER  QUANTITYORDERED  PRICEEACH  ORDERLINENUMBER    SALES  \\\n",
              "1723        10184               42      31.82                7  1336.44   \n",
              "486         10227               25     100.00                3  2953.75   \n",
              "2678        10284               25      69.60                7  1740.00   \n",
              "\n",
              "      ORDERDATE   STATUS  QTR_ID  MONTH_ID  YEAR_ID   PRODUCTLINE  MSRP  \\\n",
              "1723 2003-11-14  Shipped       4        11     2003  Classic Cars    35   \n",
              "486  2004-03-02  Shipped       1         3     2004  Vintage Cars   102   \n",
              "2678 2004-08-21  Shipped       3         8     2004        Planes    80   \n",
              "\n",
              "     PRODUCTCODE                CUSTOMERNAME ADDRESSLINE2     CITY STATE  \\\n",
              "1723    S24_2840  Iberia Gift Imports, Corp.            0  Sevilla     0   \n",
              "486     S18_1342      Saveley & Henriot, Co.            0     Lyon     0   \n",
              "2678   S700_3167   Norway Gifts By Mail, Co.            0     Oslo     0   \n",
              "\n",
              "     TERRITORY DEALSIZE  \n",
              "1723      EMEA    Small  \n",
              "486       EMEA    Small  \n",
              "2678      EMEA    Small  "
            ]
          },
          "execution_count": 12,
          "metadata": {},
          "output_type": "execute_result"
        }
      ],
      "source": [
        "#Ensure Data Consistency\n",
        "sales_data = sales_data[sales_data['QUANTITYORDERED'] > 0]\n",
        "sales_data.sample(3)\n"
      ]
    },
    {
      "cell_type": "markdown",
      "metadata": {
        "id": "9VgOAc1F4273"
      },
      "source": [
        "***Data Outlier Detect ***"
      ]
    },
    {
      "cell_type": "code",
      "execution_count": null,
      "metadata": {
        "id": "y6lFcCsw4273",
        "outputId": "f04c3ff7-4ad5-452b-abe5-c817e164789f"
      },
      "outputs": [
        {
          "data": {
            "image/png": "[encoded data removed]",
            "text/plain": [
              "<Figure size 640x480 with 1 Axes>"
            ]
          },
          "metadata": {},
          "output_type": "display_data"
        }
      ],
      "source": [
        "import matplotlib.pyplot as plt\n",
        "import seaborn as sns\n",
        "\n",
        "# Box plot to detect outliers in 'SALES' column\n",
        "sns.boxplot(x=sales_data['SALES'])\n",
        "plt.show()"
      ]
    },
    {
      "cell_type": "code",
      "execution_count": null,
      "metadata": {
        "id": "xiaCU7ZW4274",
        "outputId": "29704dea-835a-4c27-d276-e9bc4e809e3b"
      },
      "outputs": [
        {
          "name": "stdout",
          "output_type": "stream",
          "text": [
            "0       0.370825\n",
            "1       0.427897\n",
            "2       0.179443\n",
            "3       0.104701\n",
            "4       0.896740\n",
            "          ...   \n",
            "2818    0.711084\n",
            "2819    0.230579\n",
            "2820    1.012024\n",
            "2821    0.780722\n",
            "2822    0.257637\n",
            "Name: SALES, Length: 2823, dtype: float64\n",
            "Outliers indices: (array([  30,   43,   44,   53,   81,   90,  104,  105,  131,  164,  174,\n",
            "        175,  188,  198,  319,  497,  598,  667,  744,  840, 1062, 1133,\n",
            "       1188, 1558, 1839, 1995, 1996, 2117, 2505, 2634], dtype=int64),)\n"
          ]
        }
      ],
      "source": [
        "#using z-scored method\n",
        "from scipy import stats\n",
        "import numpy as np\n",
        "\n",
        "z_scores = np.abs(stats.zscore(sales_data['SALES']))\n",
        "print(z_scores)\n",
        "\n",
        "# Set a threshold for identifying outliers (e.g., z-score > 3)\n",
        "outliers = np.where(z_scores > 3)\n",
        "print(\"Outliers indices:\", outliers)"
      ]
    },
    {
      "cell_type": "code",
      "execution_count": null,
      "metadata": {
        "id": "u1PF40Em4274",
        "outputId": "e015e2ce-aec2-41b4-9e43-262ed4917068"
      },
      "outputs": [
        {
          "name": "stdout",
          "output_type": "stream",
          "text": [
            "      ORDERNUMBER  QUANTITYORDERED  PRICEEACH  ORDERLINENUMBER     SALES  \\\n",
            "30          10150               45      100.0                8  10993.50   \n",
            "32          10174               34      100.0                4   8014.82   \n",
            "35          10206               47      100.0                6   9064.89   \n",
            "41          10280               34      100.0                2   8014.82   \n",
            "43          10304               47      100.0                6  10172.70   \n",
            "...           ...              ...        ...              ...       ...   \n",
            "2241        10325               38      100.0                3   8844.12   \n",
            "2295        10324               48      100.0                4   8209.44   \n",
            "2430        10395               45      100.0                3   8977.05   \n",
            "2505        10388               46      100.0                2  10066.60   \n",
            "2634        10336               46      100.0                2   9558.80   \n",
            "\n",
            "      ORDERDATE   STATUS  QTR_ID  MONTH_ID  YEAR_ID       PRODUCTLINE  MSRP  \\\n",
            "30   2003-09-19  Shipped       3         9     2003      Classic Cars   214   \n",
            "32   2003-11-06  Shipped       4        11     2003      Classic Cars   214   \n",
            "35   2003-12-05  Shipped       4        12     2003      Classic Cars   214   \n",
            "41   2004-08-17  Shipped       3         8     2004      Classic Cars   214   \n",
            "43   2004-10-11  Shipped       4        10     2004      Classic Cars   214   \n",
            "...         ...      ...     ...       ...      ...               ...   ...   \n",
            "2241 2004-11-05  Shipped       4        11     2004  Trucks and Buses    54   \n",
            "2295 2004-11-05  Shipped       4        11     2004  Trucks and Buses    64   \n",
            "2430 2005-03-17  Shipped       1         3     2005            Trains    58   \n",
            "2505 2005-03-03  Shipped       1         3     2005            Planes    91   \n",
            "2634 2004-11-20  Shipped       4        11     2004      Classic Cars   101   \n",
            "\n",
            "     PRODUCTCODE                    CUSTOMERNAME ADDRESSLINE2            CITY  \\\n",
            "30      S10_1949         Dragon Souveniers, Ltd.            0       Singapore   \n",
            "32      S10_1949     Australian Gift Network, Co            0  South Brisbane   \n",
            "35      S10_1949  Canadian Gift Exchange Network            0       Vancouver   \n",
            "41      S10_1949              Amica Models & Co.            0          Torino   \n",
            "43      S10_1949              Auto Assoc. & Cie.            0      Versailles   \n",
            "...          ...                             ...          ...             ...   \n",
            "2241    S32_2509              Baane Mini Imports            0         Stavern   \n",
            "2295    S32_3522                 Vitachrome Inc.    Suite 101             NYC   \n",
            "2430    S50_1514                 Lyon Souveniers            0           Paris   \n",
            "2505   S700_1691                FunGiftIdeas.com            0     New Bedford   \n",
            "2634   S700_2824       La Corne D'abondance, Co.            0           Paris   \n",
            "\n",
            "           STATE TERRITORY DEALSIZE  \n",
            "30             0     Japan    Large  \n",
            "32    Queensland      APAC    Large  \n",
            "35            BC         0    Large  \n",
            "41             0      EMEA    Large  \n",
            "43             0      EMEA    Large  \n",
            "...          ...       ...      ...  \n",
            "2241           0      EMEA    Large  \n",
            "2295          NY         0    Large  \n",
            "2430           0      EMEA    Large  \n",
            "2505          MA         0    Large  \n",
            "2634           0      EMEA    Large  \n",
            "\n",
            "[81 rows x 19 columns]\n"
          ]
        }
      ],
      "source": [
        "# IRQ Method\n",
        "Q1 = sales_data['SALES'].quantile(0.25)\n",
        "Q3 = sales_data['SALES'].quantile(0.75)\n",
        "IQR = Q3 - Q1\n",
        "\n",
        "lower_bound = Q1 - 1.5 * IQR\n",
        "upper_bound = Q3 + 1.5 * IQR\n",
        "\n",
        "outliers = sales_data[(sales_data['SALES'] < lower_bound) | (sales_data['SALES'] > upper_bound)]\n",
        "print(outliers)\n"
      ]
    },
    {
      "cell_type": "markdown",
      "metadata": {
        "id": "8k2AAGf74274"
      },
      "source": [
        "Data Outlier Handle"
      ]
    },
    {
      "cell_type": "code",
      "execution_count": null,
      "metadata": {
        "id": "ubhw86Rq4274"
      },
      "outputs": [],
      "source": [
        "# Capping outliers in the 'SALES' column\n",
        "sales_data['SALES'] = np.where(sales_data['SALES'] > upper_bound, upper_bound,\n",
        "                               np.where(sales_data['SALES'] < lower_bound, lower_bound, sales_data['SALES']))\n"
      ]
    },
    {
      "cell_type": "code",
      "execution_count": null,
      "metadata": {
        "id": "K-hvw_f14274",
        "outputId": "03890548-2ffd-4952-ca8d-e4f7d503413a"
      },
      "outputs": [
        {
          "data": {
            "image/png": "[encoded data removed]",
            "text/plain": [
              "<Figure size 640x480 with 1 Axes>"
            ]
          },
          "metadata": {},
          "output_type": "display_data"
        }
      ],
      "source": [
        "sns.boxplot(x=sales_data['SALES'])\n",
        "plt.show()\n"
      ]
    },
    {
      "cell_type": "markdown",
      "metadata": {
        "id": "T3zf4lTf4274"
      },
      "source": [
        "***Data Exploration***"
      ]
    },
    {
      "cell_type": "code",
      "execution_count": null,
      "metadata": {
        "id": "snj4R_tO4274",
        "outputId": "f3e95fbb-83ab-4a79-dd79-f53d114ac2e7"
      },
      "outputs": [
        {
          "name": "stdout",
          "output_type": "stream",
          "text": [
            "PRODUCTLINE\n",
            "Classic Cars        3865484.790\n",
            "Vintage Cars        1879004.410\n",
            "Motorcycles         1154421.530\n",
            "Trucks and Buses    1125623.055\n",
            "Planes               970631.635\n",
            "Ships                714437.130\n",
            "Trains               225231.275\n",
            "Name: SALES, dtype: float64\n"
          ]
        }
      ],
      "source": [
        "# Total Sales By Product line\n",
        "product_sales = sales_data.groupby('PRODUCTLINE')['SALES'].sum().sort_values(ascending=False)\n",
        "print(product_sales)\n"
      ]
    },
    {
      "cell_type": "code",
      "execution_count": null,
      "metadata": {
        "id": "QPi0G7CV4274",
        "outputId": "4eb552df-72e5-44a7-d75d-a6bb342d1322"
      },
      "outputs": [
        {
          "name": "stdout",
          "output_type": "stream",
          "text": [
            "YEAR_ID\n",
            "2003    3497607.645\n",
            "2004    4687795.730\n",
            "2005    1749430.450\n",
            "Name: SALES, dtype: float64\n"
          ]
        }
      ],
      "source": [
        "# Sales by year\n",
        "year_sales = sales_data.groupby('YEAR_ID')['SALES'].sum()\n",
        "print(year_sales)"
      ]
    },
    {
      "cell_type": "code",
      "execution_count": null,
      "metadata": {
        "id": "IpG_k2Yl4274",
        "outputId": "4f40e71b-5971-4369-efb1-2710e4db24ac"
      },
      "outputs": [
        {
          "name": "stdout",
          "output_type": "stream",
          "text": [
            "                SALES\n",
            "MONTH_ID             \n",
            "1          780965.915\n",
            "2          803794.955\n",
            "3          750301.725\n",
            "4          647330.085\n",
            "5          908806.595\n",
            "6          450896.445\n",
            "7          511603.695\n",
            "8          655654.995\n",
            "9          579372.385\n",
            "10        1112497.300\n",
            "11        2102213.010\n",
            "12         631396.720\n"
          ]
        }
      ],
      "source": [
        "monthly_sales = sales_data.pivot_table(index='MONTH_ID', values='SALES', aggfunc='sum')\n",
        "print(monthly_sales)\n"
      ]
    },
    {
      "cell_type": "code",
      "execution_count": null,
      "metadata": {
        "id": "BdHOwjtx4275",
        "outputId": "f0ce5b62-b4b9-4c17-b2e9-f0640373f07e"
      },
      "outputs": [
        {
          "name": "stdout",
          "output_type": "stream",
          "text": [
            "CUSTOMERNAME\n",
            "Euro Shopping Channel           902217.880\n",
            "Mini Gifts Distributors Ltd.    647302.655\n",
            "Australian Collectors, Co.      197886.230\n",
            "Muscle Machine Inc              194248.690\n",
            "La Rochelle Gifts               178050.155\n",
            "Name: SALES, dtype: float64\n"
          ]
        }
      ],
      "source": [
        "top_customers = sales_data.groupby('CUSTOMERNAME')['SALES'].sum().sort_values(ascending=False).head(5)\n",
        "print(top_customers)"
      ]
    },
    {
      "cell_type": "code",
      "execution_count": null,
      "metadata": {
        "id": "cR2V4QEY4275",
        "outputId": "f4386a05-d9b7-45ad-9010-e2d8bb51e5a6"
      },
      "outputs": [
        {
          "name": "stdout",
          "output_type": "stream",
          "text": [
            "TERRITORY\n",
            "EMEA     4932964.310\n",
            "0        3812322.205\n",
            "APAC      741615.380\n",
            "Japan     447931.930\n",
            "Name: SALES, dtype: float64\n"
          ]
        }
      ],
      "source": [
        "territory_sales = sales_data.groupby('TERRITORY')['SALES'].sum().sort_values(ascending=False)\n",
        "print(territory_sales)"
      ]
    },
    {
      "cell_type": "markdown",
      "metadata": {
        "id": "wZv7k79h4275"
      },
      "source": [
        "***Data Visualization ***"
      ]
    },
    {
      "cell_type": "markdown",
      "metadata": {
        "id": "P5ZLVf7J4275"
      },
      "source": [
        "Sales by Product Line (Bar Chart)"
      ]
    },
    {
      "cell_type": "code",
      "execution_count": null,
      "metadata": {
        "id": "KsnGV-HC4275",
        "outputId": "d1a9ff74-058e-4169-90c2-6f2ebb7d0775"
      },
      "outputs": [
        {
          "data": {
            "image/png": "[encoded data removed]",
            "text/plain": [
              "<Figure size 640x480 with 1 Axes>"
            ]
          },
          "metadata": {},
          "output_type": "display_data"
        }
      ],
      "source": [
        "import matplotlib.pyplot as plt\n",
        "\n",
        "product_sales.plot(kind='bar', title=\"Sales by Product Line\")\n",
        "plt.ylabel('Total Sales')\n",
        "plt.show()"
      ]
    },
    {
      "cell_type": "markdown",
      "metadata": {
        "id": "vLRwuAWz4275"
      },
      "source": [
        "Sales Trend Over Time (Line Plot)"
      ]
    },
    {
      "cell_type": "code",
      "execution_count": null,
      "metadata": {
        "id": "3KdLDvou4275",
        "outputId": "243679d1-c1fc-410a-beb9-fcc5256cde5c"
      },
      "outputs": [
        {
          "data": {
            "image/png": "[encoded data removed]",
            "text/plain": [
              "<Figure size 640x480 with 1 Axes>"
            ]
          },
          "metadata": {},
          "output_type": "display_data"
        }
      ],
      "source": [
        "year_sales.plot(kind='line', title=\"Total Sales Over the Years\")\n",
        "plt.ylabel('Total Sales')\n",
        "plt.show()"
      ]
    },
    {
      "cell_type": "code",
      "execution_count": null,
      "metadata": {
        "id": "HMJh5v4h4275",
        "outputId": "e6e99af4-6c79-4bfe-b4a1-0d85f799248d"
      },
      "outputs": [
        {
          "data": {
            "image/png": "[encoded data removed]",
            "text/plain": [
              "<Figure size 640x480 with 1 Axes>"
            ]
          },
          "metadata": {},
          "output_type": "display_data"
        }
      ],
      "source": [
        "# Monthly sales Distribution\n",
        "monthly_sales.plot(kind='bar', title=\"Monthly Sales\")\n",
        "plt.ylabel('Sales')\n",
        "plt.xlabel('Month')\n",
        "plt.show()\n"
      ]
    },
    {
      "cell_type": "code",
      "execution_count": null,
      "metadata": {
        "id": "tUK-rpJb4275",
        "outputId": "7fc48767-c1f9-4b8c-e014-0b2fe9ac82b1"
      },
      "outputs": [
        {
          "data": {
            "image/png": "[encoded data removed]",
            "text/plain": [
              "<Figure size 640x480 with 1 Axes>"
            ]
          },
          "metadata": {},
          "output_type": "display_data"
        }
      ],
      "source": [
        "top_customers.plot(kind='bar', title=\"Top 5 Customers by Sales\")\n",
        "plt.ylabel('Sales')\n",
        "plt.show()"
      ]
    },
    {
      "cell_type": "code",
      "execution_count": null,
      "metadata": {
        "id": "yzcTuVJN4276",
        "outputId": "7c7b3b70-2c4c-4552-e1a2-c4c37491ea6b"
      },
      "outputs": [
        {
          "data": {
            "image/png": "[encoded data removed]",
            "text/plain": [
              "<Figure size 640x480 with 1 Axes>"
            ]
          },
          "metadata": {},
          "output_type": "display_data"
        }
      ],
      "source": [
        "territory_sales.plot(kind='pie', autopct='%1.1f%%', title=\"Sales by Territory\")\n",
        "plt.ylabel('')\n",
        "plt.show()\n"
      ]
    },
    {
      "cell_type": "code",
      "execution_count": null,
      "metadata": {
        "id": "6M3cp4Vu4276"
      },
      "outputs": [],
      "source": [
        "sales_data.to_csv('cleaned_sales_data.csv', index=False)"
      ]
    }
  ],
  "metadata": {
    "kernelspec": {
      "display_name": "Python 3",
      "language": "python",
      "name": "python3"
    },
    "language_info": {
      "codemirror_mode": {
        "name": "ipython",
        "version": 3
      },
      "file_extension": ".py",
      "mimetype": "text/x-python",
      "name": "python",
      "nbconvert_exporter": "python",
      "pygments_lexer": "ipython3",
      "version": "3.12.0"
    },
    "colab": {
      "provenance": [],
      "include_colab_link": true
    }
  },
  "nbformat": 4,
  "nbformat_minor": 0
}